{
 "cells": [
  {
   "cell_type": "code",
   "execution_count": 2,
   "metadata": {},
   "outputs": [],
   "source": [
    "# DogVsCat\n",
    "\n",
    "import cv2\n",
    "import numpy as np\n",
    "import os\n",
    "from random import shuffle\n",
    "from tqdm import tqdm\n"
   ]
  },
  {
   "cell_type": "code",
   "execution_count": 12,
   "metadata": {},
   "outputs": [],
   "source": [
    "train_path = os.path.expanduser('~/Documents/Python_NN/DogVsCat/dataset/train')\n",
    "test_path = os.path.expanduser('~/Documents/Python_NN/DogVsCat/dataset/test')\n",
    "\n",
    "img_size = 50\n",
    "lr = 1e-3\n",
    "\n",
    "model_name = \"dogVscat_model\"\n"
   ]
  },
  {
   "cell_type": "code",
   "execution_count": 46,
   "metadata": {},
   "outputs": [],
   "source": [
    "def label_img(img):\n",
    "    \n",
    "    word_label = img.split('.')[-3]\n",
    "    # for one hot array\n",
    "    \n",
    "    if word_label == 'cat':\n",
    "        return [1,0]\n",
    "    elif word_label == 'dog':\n",
    "        return [0,1]\n",
    "    \n",
    "    "
   ]
  },
  {
   "cell_type": "code",
   "execution_count": 47,
   "metadata": {},
   "outputs": [],
   "source": [
    "#preprocessing\n",
    "\n",
    "def create_train_data():\n",
    "    training_data = []\n",
    "    for i in tqdm(os.listdir(train_path)):\n",
    "        label = label_img(i)\n",
    "        path = os.path.join(train_path,i)\n",
    "        img = cv2.imread(path,cv2.IMREAD_GRAYSCALE)\n",
    "        img = cv2.resize(img,(img_size,img_size))\n",
    "        training_data.append([np.array(img),np.array(label)])\n",
    "    shuffle(training_data)\n",
    "    np.save('training_data.npy',training_data)\n",
    "    return training_data\n"
   ]
  },
  {
   "cell_type": "code",
   "execution_count": 48,
   "metadata": {},
   "outputs": [],
   "source": [
    "def process_test_data():\n",
    "    testing_data = []\n",
    "    for i in tqdm(os.listdir(test_path)):\n",
    "        path = os.path.join(test_path,i)\n",
    "        img_num = i.split('.')[0]\n",
    "        img = cv2.imread(path, cv2.IMREAD_GRAYSCALE)\n",
    "        img = cv2.resize(img,(img_size,img_size))\n",
    "        testing_data.append([np.array(img),np.array(img_num)])\n",
    "        \n",
    "    shuffle(testing_data)\n",
    "    np.save('testing_data.npy',testing_data)\n",
    "    return testing_data\n"
   ]
  },
  {
   "cell_type": "code",
   "execution_count": 49,
   "metadata": {},
   "outputs": [],
   "source": [
    "#train_data = create_train_data()\n",
    "train_data = np.load('training_data.npy')"
   ]
  },
  {
   "cell_type": "code",
   "execution_count": 50,
   "metadata": {},
   "outputs": [
    {
     "data": {
      "text/plain": [
       "(25000, 2)"
      ]
     },
     "execution_count": 50,
     "metadata": {},
     "output_type": "execute_result"
    }
   ],
   "source": [
    "train_data.shape"
   ]
  },
  {
   "cell_type": "code",
   "execution_count": 8,
   "metadata": {},
   "outputs": [],
   "source": [
    "import tflearn\n",
    "from tflearn.layers.conv import conv_2d, max_pool_2d\n",
    "from tflearn.layers.core import input_data, dropout, fully_connected\n",
    "from tflearn.layers.estimator import regression\n",
    "import tensorflow as tf\n",
    "tf.reset_default_graph()"
   ]
  },
  {
   "cell_type": "code",
   "execution_count": 10,
   "metadata": {},
   "outputs": [
    {
     "name": "stdout",
     "output_type": "stream",
     "text": [
      "WARNING:tensorflow:From /home/bharat/anaconda3/envs/anaconda/lib/python3.6/site-packages/tflearn/initializations.py:119: UniformUnitScaling.__init__ (from tensorflow.python.ops.init_ops) is deprecated and will be removed in a future version.\n",
      "Instructions for updating:\n",
      "Use tf.initializers.variance_scaling instead with distribution=uniform to get equivalent behavior.\n",
      "WARNING:tensorflow:From /home/bharat/anaconda3/envs/anaconda/lib/python3.6/site-packages/tflearn/objectives.py:66: calling reduce_sum (from tensorflow.python.ops.math_ops) with keep_dims is deprecated and will be removed in a future version.\n",
      "Instructions for updating:\n",
      "keep_dims is deprecated, use keepdims instead\n"
     ]
    }
   ],
   "source": [
    "# None is for batch size , it will take automatically\n",
    "convnet = input_data(shape=(None, img_size, img_size, 1), name ='input')\n",
    "\n",
    "convnet = conv_2d(convnet, 32, 5, activation='relu')\n",
    "convnet = max_pool_2d(convnet, 5)\n",
    "\n",
    "convnet = conv_2d(convnet, 64, 5, activation='relu')\n",
    "convnet = max_pool_2d(convnet, 5)\n",
    "\n",
    "convnet = conv_2d(convnet, 128, 5, activation='relu')\n",
    "convnet = max_pool_2d(convnet, 5)\n",
    "\n",
    "convnet = conv_2d(convnet, 64, 5, activation='relu')\n",
    "convnet = max_pool_2d(convnet, 5)\n",
    "\n",
    "\n",
    "convnet = conv_2d(convnet, 32, 5, activation='relu')\n",
    "convnet = max_pool_2d(convnet, 5)\n",
    "\n",
    "convnet = fully_connected(convnet, 1024, activation='relu')\n",
    "#Dropout is a regularization technique patented by Google for reducing\n",
    "#overfitting in neural networks by preventing complex co-adaptations on training data\n",
    "convnet = dropout(convnet, 0.8)\n",
    "\n",
    "convnet = fully_connected(convnet, 2, activation='softmax')\n",
    "convnet = regression(convnet, optimizer='adam',learning_rate=lr, loss='categorical_crossentropy', name='targets')\n",
    "\n",
    "model = tflearn.DNN(convnet, tensorboard_dir='log')"
   ]
  },
  {
   "cell_type": "code",
   "execution_count": null,
   "metadata": {},
   "outputs": [],
   "source": []
  },
  {
   "cell_type": "code",
   "execution_count": 14,
   "metadata": {},
   "outputs": [
    {
     "name": "stdout",
     "output_type": "stream",
     "text": [
      "INFO:tensorflow:Restoring parameters from /home/bharat/Documents/Python_NN/DogVsCat/dogVscat_model\n",
      "Model Loaded !!\n"
     ]
    }
   ],
   "source": [
    "if os.path.exists('{}.meta'.format(model_name)):\n",
    "    model.load(model_name)\n",
    "    print(\"Model Loaded !!\")"
   ]
  },
  {
   "cell_type": "code",
   "execution_count": 62,
   "metadata": {},
   "outputs": [],
   "source": [
    "train = train_data[:-500]\n",
    "test = train_data[-500:]"
   ]
  },
  {
   "cell_type": "code",
   "execution_count": 63,
   "metadata": {},
   "outputs": [],
   "source": [
    "#X = np.array(train[:,0]).reshape(-1, img_size, img_size, 1)\n",
    "#Y = np.array(train[:,1])"
   ]
  },
  {
   "cell_type": "code",
   "execution_count": 64,
   "metadata": {},
   "outputs": [],
   "source": [
    "X = np.array([i[0] for i in train]).reshape(-1, img_size, img_size, 1)\n",
    "Y = [i[1] for i in train]"
   ]
  },
  {
   "cell_type": "code",
   "execution_count": 65,
   "metadata": {},
   "outputs": [],
   "source": [
    "test_x = np.array([i[0] for i in test]).reshape(-1, img_size, img_size, 1)\n",
    "test_y = [i[1] for i in test]"
   ]
  },
  {
   "cell_type": "code",
   "execution_count": 66,
   "metadata": {},
   "outputs": [
    {
     "name": "stdout",
     "output_type": "stream",
     "text": [
      "Training Step: 3829  | total loss: \u001b[1m\u001b[32m0.33543\u001b[0m\u001b[0m | time: 51.647s\n",
      "| Adam | epoch: 010 | loss: 0.33543 - acc: 0.8542 -- iter: 24448/24500\n",
      "Training Step: 3830  | total loss: \u001b[1m\u001b[32m0.35103\u001b[0m\u001b[0m | time: 52.785s\n",
      "| Adam | epoch: 010 | loss: 0.35103 - acc: 0.8469 | val_loss: 0.63546 - val_acc: 0.7640 -- iter: 24500/24500\n",
      "--\n"
     ]
    }
   ],
   "source": [
    "model.fit({'input':X}, {'targets':Y}, n_epoch=10, validation_set=({'input':test_x}, {'targets':test_y}),\n",
    "         snapshot_step=500, show_metric=True, run_id=model_name)"
   ]
  },
  {
   "cell_type": "code",
   "execution_count": 13,
   "metadata": {},
   "outputs": [
    {
     "name": "stdout",
     "output_type": "stream",
     "text": [
      "INFO:tensorflow:/home/bharat/Documents/Python_NN/DogVsCat/dogVscat_model is not in all_model_checkpoint_paths. Manually adding it.\n"
     ]
    }
   ],
   "source": [
    "model.save(model_name)"
   ]
  },
  {
   "cell_type": "code",
   "execution_count": null,
   "metadata": {},
   "outputs": [],
   "source": [
    "# visually inspecting test data"
   ]
  },
  {
   "cell_type": "code",
   "execution_count": 68,
   "metadata": {},
   "outputs": [],
   "source": [
    "import matplotlib.pyplot as plt"
   ]
  },
  {
   "cell_type": "code",
   "execution_count": 71,
   "metadata": {},
   "outputs": [
    {
     "data": {
      "text/plain": [
       "array([[array([[ 55, 102, 110, ...,  81,  69,  66],\n",
       "       [109,  86,  70, ...,  67,  61,  55],\n",
       "       [104, 115,  46, ...,  79,  56,  53],\n",
       "       ...,\n",
       "       [ 45,  34,  22, ...,  48,  38, 119],\n",
       "       [ 30,  18,  58, ..., 102, 123,  94],\n",
       "       [ 19,  44,  42, ..., 118,  88,  88]], dtype=uint8),\n",
       "        array('3858', dtype='<U4')],\n",
       "       [array([[199, 191, 190, ..., 141, 137, 135],\n",
       "       [202, 192, 191, ..., 140, 135, 138],\n",
       "       [198, 179, 193, ..., 148, 139, 139],\n",
       "       ...,\n",
       "       [120, 114, 108, ...,  54,  52,  48],\n",
       "       [108, 115, 107, ...,  63,  56,  58],\n",
       "       [111, 103, 102, ...,  59,  56,  53]], dtype=uint8),\n",
       "        array('12458', dtype='<U5')],\n",
       "       [array([[173, 179, 186, ...,  17,  30,  64],\n",
       "       [175, 183, 187, ...,  16,  24,  71],\n",
       "       [176, 183, 185, ...,  15,  31,  77],\n",
       "       ...,\n",
       "       [ 89,  98,  73, ...,   6,  11,  28],\n",
       "       [ 54, 103,  96, ...,   8,  12,  23],\n",
       "       [ 56,  80, 111, ...,   6,  11,  33]], dtype=uint8),\n",
       "        array('4951', dtype='<U4')],\n",
       "       ...,\n",
       "       [array([[  1,   1,   1, ...,  40,  24,  24],\n",
       "       [  1,   1,   1, ...,  34,  24,  59],\n",
       "       [  1,   1,   2, ...,  32,  23,  66],\n",
       "       ...,\n",
       "       [107,  97,  97, ..., 108, 103,  52],\n",
       "       [102, 101,  81, ..., 102,  75,  65],\n",
       "       [134, 137, 107, ...,  92,  79,  64]], dtype=uint8),\n",
       "        array('8866', dtype='<U4')],\n",
       "       [array([[146, 158, 182, ..., 149, 150, 147],\n",
       "       [ 51,  52,  46, ..., 154, 153, 151],\n",
       "       [ 44,  50,  39, ..., 158, 157, 156],\n",
       "       ...,\n",
       "       [124, 116, 151, ..., 146, 131, 149],\n",
       "       [146, 144, 124, ..., 113, 139, 120],\n",
       "       [144, 163, 186, ..., 103, 119, 134]], dtype=uint8),\n",
       "        array('7055', dtype='<U4')],\n",
       "       [array([[151, 155, 158, ..., 154, 151, 148],\n",
       "       [151, 155, 158, ..., 154, 151, 149],\n",
       "       [151, 154, 158, ..., 154, 151, 149],\n",
       "       ...,\n",
       "       [ 32,  38,  71, ...,  65,  76,  71],\n",
       "       [ 35,  38,  63, ...,  61,  62,  75],\n",
       "       [ 29,  36,  43, ...,  67,  75,  73]], dtype=uint8),\n",
       "        array('2397', dtype='<U4')]], dtype=object)"
      ]
     },
     "execution_count": 71,
     "metadata": {},
     "output_type": "execute_result"
    }
   ],
   "source": [
    "#test_data = process_test_data()\n",
    "test_data = np.load('testing_data.npy')\n",
    "test_data"
   ]
  },
  {
   "cell_type": "code",
   "execution_count": 75,
   "metadata": {},
   "outputs": [
    {
     "data": {
      "image/png": "[encoded data removed]",
      "text/plain": [
       "<Figure size 432x288 with 12 Axes>"
      ]
     },
     "metadata": {
      "needs_background": "light"
     },
     "output_type": "display_data"
    }
   ],
   "source": [
    "fig = plt.figure()\n",
    "# cat --> [1,0]\n",
    "# dog --> [0,1]\n",
    "for num,data in enumerate(test_data[:12]):\n",
    "    \n",
    "    img_data = data[0]\n",
    "    img_num = data[1]\n",
    "    \n",
    "    y = fig.add_subplot(3,4,num+1)\n",
    "    orignal = img_data\n",
    "    data = img_data.reshape(img_size,img_size,1)\n",
    "    \n",
    "    model_output = model.predict([data])[0]\n",
    "    \n",
    "    if np.argmax(model_output) == 1:\n",
    "        str_label = 'Dog'\n",
    "    else:\n",
    "        str_label = 'Cat'\n",
    "        \n",
    "    y.imshow(orignal, cmap='gray')\n",
    "    plt.title(str_label)\n",
    "    y.axes.get_xaxis().set_visible(False)\n",
    "    y.axes.get_yaxis().set_visible(False)\n",
    "plt.show()"
   ]
  },
  {
   "cell_type": "code",
   "execution_count": null,
   "metadata": {},
   "outputs": [],
   "source": []
  },
  {
   "cell_type": "code",
   "execution_count": null,
   "metadata": {},
   "outputs": [],
   "source": []
  },
  {
   "cell_type": "code",
   "execution_count": null,
   "metadata": {},
   "outputs": [],
   "source": []
  },
  {
   "cell_type": "code",
   "execution_count": null,
   "metadata": {},
   "outputs": [],
   "source": []
  },
  {
   "cell_type": "code",
   "execution_count": null,
   "metadata": {},
   "outputs": [],
   "source": []
  },
  {
   "cell_type": "code",
   "execution_count": null,
   "metadata": {},
   "outputs": [],
   "source": []
  }
 ],
 "metadata": {
  "kernelspec": {
   "display_name": "Python 3",
   "language": "python",
   "name": "python3"
  },
  "language_info": {
   "codemirror_mode": {
    "name": "ipython",
    "version": 3
   },
   "file_extension": ".py",
   "mimetype": "text/x-python",
   "name": "python",
   "nbconvert_exporter": "python",
   "pygments_lexer": "ipython3",
   "version": "3.6.8"
  }
 },
 "nbformat": 4,
 "nbformat_minor": 2
}
